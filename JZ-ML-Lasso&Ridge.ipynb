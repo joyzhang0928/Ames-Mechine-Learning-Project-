{
 "cells": [
  {
   "cell_type": "code",
   "execution_count": 1,
   "id": "6030649d",
   "metadata": {},
   "outputs": [],
   "source": [
    "import pandas as pd\n",
    "from sklearn.compose import ColumnTransformer\n",
    "from sklearn.preprocessing import StandardScaler, OneHotEncoder\n",
    "from sklearn.impute import SimpleImputer\n",
    "from sklearn.pipeline import Pipeline"
   ]
  },
  {
   "cell_type": "code",
   "execution_count": 2,
   "id": "276963e4",
   "metadata": {},
   "outputs": [],
   "source": [
    "\n",
    "# Load the dataset\n",
    "housing = pd.read_csv('Ames_HousePrice.csv', index_col=0)\n",
    "\n",
    "# Define the target variable\n",
    "y = housing['SalePrice']\n",
    "\n",
    "# Select all features excluding the target variable\n",
    "X = housing.drop('SalePrice', axis=1)\n",
    "\n",
    "# Identify numeric and categorical features\n",
    "numeric_features = X.select_dtypes(include=['int64', 'float64']).columns.tolist()\n",
    "categorical_features = X.select_dtypes(include=['object']).columns.tolist()\n",
    "\n",
    "# Preprocessing pipelines for numeric and categorical features\n",
    "numeric_transformer = Pipeline(steps=[\n",
    "    ('imputer', SimpleImputer(strategy='mean')),\n",
    "    ('scaler', StandardScaler())\n",
    "])\n",
    "\n",
    "categorical_transformer = Pipeline(steps=[\n",
    "    ('imputer', SimpleImputer(strategy='constant', fill_value='missing')),\n",
    "    ('onehot', OneHotEncoder(handle_unknown='ignore'))\n",
    "])\n",
    "\n",
    "# Combine preprocessing steps\n",
    "preprocessor = ColumnTransformer(\n",
    "    transformers=[\n",
    "        ('num', numeric_transformer, numeric_features),\n",
    "        ('cat', categorical_transformer, categorical_features)\n",
    "    ])\n"
   ]
  },
  {
   "cell_type": "code",
   "execution_count": 3,
   "id": "2e958850",
   "metadata": {},
   "outputs": [],
   "source": [
    "# Define the Lasso model with increased iterations and set alpha to 10\n",
    "from sklearn.linear_model import Ridge, Lasso\n",
    "\n",
    "lasso_model = Lasso(max_iter=10000, alpha=10)\n",
    "\n"
   ]
  },
  {
   "cell_type": "code",
   "execution_count": 4,
   "id": "8fed0ca3",
   "metadata": {},
   "outputs": [],
   "source": [
    "# Create the final pipeline\n",
    "\n",
    "lasso_pipeline = Pipeline(steps=[\n",
    "    ('preprocessor', preprocessor),\n",
    "    ('regressor', lasso_model)\n",
    "])"
   ]
  },
  {
   "cell_type": "code",
   "execution_count": 5,
   "id": "81e63ebf",
   "metadata": {},
   "outputs": [
    {
     "name": "stdout",
     "output_type": "stream",
     "text": [
      "Mean R^2 cross-validation score for Lasso: 0.9122683119876338\n"
     ]
    }
   ],
   "source": [
    "# Perform cross-validation\n",
    "from sklearn.model_selection import cross_val_score\n",
    "from sklearn.metrics import r2_score\n",
    "\n",
    "lasso_scores = cross_val_score(lasso_pipeline, X, y, cv=5, scoring='r2')\n",
    "lasso_mean_score = lasso_scores.mean()\n",
    "\n",
    "print(\"Mean R^2 cross-validation score for Lasso:\", lasso_mean_score)\n"
   ]
  },
  {
   "cell_type": "code",
   "execution_count": 6,
   "id": "867f4b0a",
   "metadata": {},
   "outputs": [
    {
     "name": "stdout",
     "output_type": "stream",
     "text": [
      "Mean R^2 cross-validation score for LassoCV: 0.913162393485754\n"
     ]
    }
   ],
   "source": [
    "#use LassoCV\n",
    "from sklearn.linear_model import LassoCV\n",
    "\n",
    "# Define the LassoCV model\n",
    "lasso_cv_model = LassoCV(cv=5, max_iter=10000)\n",
    "\n",
    "# Create the final pipeline\n",
    "lasso_pipeline = Pipeline(steps=[\n",
    "    ('preprocessor', preprocessor),\n",
    "    ('regressor', lasso_cv_model)\n",
    "])\n",
    "\n",
    "# Perform cross-validation\n",
    "lasso_scores = cross_val_score(lasso_pipeline, X, y, cv=5, scoring='r2')\n",
    "lasso_mean_score = lasso_scores.mean()\n",
    "\n",
    "print(\"Mean R^2 cross-validation score for LassoCV:\", lasso_mean_score)"
   ]
  },
  {
   "cell_type": "code",
   "execution_count": 14,
   "id": "342f7136",
   "metadata": {},
   "outputs": [
    {
     "name": "stdout",
     "output_type": "stream",
     "text": [
      "Mean R^2 cross-validation score for LassoCV: 0.913162393485754\n",
      "Best alpha value selected by LassoCV: 59.30068897867746\n"
     ]
    }
   ],
   "source": [
    "#check the best alpha for LassoCV\n",
    "\n",
    "# Fit the pipeline to the entire dataset\n",
    "lasso_pipeline.fit(X, y)\n",
    "\n",
    "# Extract the alpha value\n",
    "best_alpha = lasso_cv_model.alpha_\n",
    "\n",
    "print(\"Mean R^2 cross-validation score for LassoCV:\", lasso_mean_score)\n",
    "print(\"Best alpha value selected by LassoCV:\", best_alpha)\n"
   ]
  },
  {
   "cell_type": "code",
   "execution_count": 7,
   "id": "f47f1a9e",
   "metadata": {},
   "outputs": [
    {
     "name": "stdout",
     "output_type": "stream",
     "text": [
      "Mean R^2 cross-validation score for Ridge: 0.9133295773863545\n"
     ]
    }
   ],
   "source": [
    "# Define the Ridge model\n",
    "ridge_model = Ridge()\n",
    "\n",
    "# Create the final pipeline\n",
    "ridge_pipeline = Pipeline(steps=[\n",
    "    ('preprocessor', preprocessor),\n",
    "    ('regressor', ridge_model)\n",
    "])\n",
    "\n",
    "# Perform cross-validation\n",
    "ridge_scores = cross_val_score(ridge_pipeline, X, y, cv=5, scoring='r2')\n",
    "ridge_mean_score = ridge_scores.mean()\n",
    "\n",
    "print(\"Mean R^2 cross-validation score for Ridge:\", ridge_mean_score)"
   ]
  },
  {
   "cell_type": "code",
   "execution_count": 12,
   "id": "edf59b14",
   "metadata": {},
   "outputs": [
    {
     "name": "stdout",
     "output_type": "stream",
     "text": [
      "Mean R^2 cross-validation score for RidgeCV: 0.9115027211501705\n"
     ]
    }
   ],
   "source": [
    "#use ridgeCV\n",
    "from sklearn.linear_model import RidgeCV\n",
    "\n",
    "# Define the LassoCV model\n",
    "Ridge_cv_model = RidgeCV(cv=5)\n",
    "\n",
    "# Create the final pipeline\n",
    "Ridge_pipeline = Pipeline(steps=[\n",
    "    ('preprocessor', preprocessor),\n",
    "    ('regressor', Ridge_cv_model)\n",
    "])\n",
    "\n",
    "# Perform cross-validation\n",
    "Ridge_scores = cross_val_score(Ridge_pipeline, X, y, cv=5, scoring='r2')\n",
    "Ridge_mean_score = Ridge_scores.mean()\n",
    "\n",
    "print(\"Mean R^2 cross-validation score for RidgeCV:\", Ridge_mean_score)"
   ]
  },
  {
   "cell_type": "code",
   "execution_count": 16,
   "id": "30fd1417",
   "metadata": {},
   "outputs": [
    {
     "name": "stdout",
     "output_type": "stream",
     "text": [
      "Mean R^2 cross-validation score for RidgeCV: 0.913162393485754\n",
      "Best alpha value selected by RidgeCV: 10.0\n"
     ]
    }
   ],
   "source": [
    "#check the best alpha for ridgeCV\n",
    "\n",
    "# Fit the pipeline to the entire dataset\n",
    "Ridge_pipeline.fit(X, y)\n",
    "\n",
    "# Extract the alpha value\n",
    "best_alpha = Ridge_cv_model.alpha_\n",
    "\n",
    "print(\"Mean R^2 cross-validation score for RidgeCV:\", lasso_mean_score)\n",
    "print(\"Best alpha value selected by RidgeCV:\", best_alpha)"
   ]
  },
  {
   "cell_type": "code",
   "execution_count": null,
   "id": "0577dc98",
   "metadata": {},
   "outputs": [],
   "source": []
  }
 ],
 "metadata": {
  "kernelspec": {
   "display_name": "Python 3 (ipykernel)",
   "language": "python",
   "name": "python3"
  },
  "language_info": {
   "codemirror_mode": {
    "name": "ipython",
    "version": 3
   },
   "file_extension": ".py",
   "mimetype": "text/x-python",
   "name": "python",
   "nbconvert_exporter": "python",
   "pygments_lexer": "ipython3",
   "version": "3.11.7"
  }
 },
 "nbformat": 4,
 "nbformat_minor": 5
}
